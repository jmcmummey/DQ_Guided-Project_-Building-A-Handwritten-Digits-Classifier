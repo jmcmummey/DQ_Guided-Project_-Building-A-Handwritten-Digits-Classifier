{
 "cells": [
  {
   "cell_type": "markdown",
   "metadata": {
    "collapsed": true
   },
   "source": [
    "# Numeric Digit Recognition"
   ]
  },
  {
   "cell_type": "code",
   "execution_count": 1,
   "metadata": {
    "collapsed": false
   },
   "outputs": [
    {
     "data": {
      "text/html": [
       "<div>\n",
       "<style scoped>\n",
       "    .dataframe tbody tr th:only-of-type {\n",
       "        vertical-align: middle;\n",
       "    }\n",
       "\n",
       "    .dataframe tbody tr th {\n",
       "        vertical-align: top;\n",
       "    }\n",
       "\n",
       "    .dataframe thead th {\n",
       "        text-align: right;\n",
       "    }\n",
       "</style>\n",
       "<table border=\"1\" class=\"dataframe\">\n",
       "  <thead>\n",
       "    <tr style=\"text-align: right;\">\n",
       "      <th></th>\n",
       "      <th>0</th>\n",
       "      <th>1</th>\n",
       "      <th>2</th>\n",
       "      <th>3</th>\n",
       "      <th>4</th>\n",
       "      <th>5</th>\n",
       "      <th>6</th>\n",
       "      <th>7</th>\n",
       "      <th>8</th>\n",
       "      <th>9</th>\n",
       "      <th>...</th>\n",
       "      <th>54</th>\n",
       "      <th>55</th>\n",
       "      <th>56</th>\n",
       "      <th>57</th>\n",
       "      <th>58</th>\n",
       "      <th>59</th>\n",
       "      <th>60</th>\n",
       "      <th>61</th>\n",
       "      <th>62</th>\n",
       "      <th>63</th>\n",
       "    </tr>\n",
       "  </thead>\n",
       "  <tbody>\n",
       "    <tr>\n",
       "      <th>0</th>\n",
       "      <td>0.0</td>\n",
       "      <td>0.0</td>\n",
       "      <td>5.0</td>\n",
       "      <td>13.0</td>\n",
       "      <td>9.0</td>\n",
       "      <td>1.0</td>\n",
       "      <td>0.0</td>\n",
       "      <td>0.0</td>\n",
       "      <td>0.0</td>\n",
       "      <td>0.0</td>\n",
       "      <td>...</td>\n",
       "      <td>0.0</td>\n",
       "      <td>0.0</td>\n",
       "      <td>0.0</td>\n",
       "      <td>0.0</td>\n",
       "      <td>6.0</td>\n",
       "      <td>13.0</td>\n",
       "      <td>10.0</td>\n",
       "      <td>0.0</td>\n",
       "      <td>0.0</td>\n",
       "      <td>0.0</td>\n",
       "    </tr>\n",
       "    <tr>\n",
       "      <th>1</th>\n",
       "      <td>0.0</td>\n",
       "      <td>0.0</td>\n",
       "      <td>0.0</td>\n",
       "      <td>12.0</td>\n",
       "      <td>13.0</td>\n",
       "      <td>5.0</td>\n",
       "      <td>0.0</td>\n",
       "      <td>0.0</td>\n",
       "      <td>0.0</td>\n",
       "      <td>0.0</td>\n",
       "      <td>...</td>\n",
       "      <td>0.0</td>\n",
       "      <td>0.0</td>\n",
       "      <td>0.0</td>\n",
       "      <td>0.0</td>\n",
       "      <td>0.0</td>\n",
       "      <td>11.0</td>\n",
       "      <td>16.0</td>\n",
       "      <td>10.0</td>\n",
       "      <td>0.0</td>\n",
       "      <td>0.0</td>\n",
       "    </tr>\n",
       "    <tr>\n",
       "      <th>2</th>\n",
       "      <td>0.0</td>\n",
       "      <td>0.0</td>\n",
       "      <td>0.0</td>\n",
       "      <td>4.0</td>\n",
       "      <td>15.0</td>\n",
       "      <td>12.0</td>\n",
       "      <td>0.0</td>\n",
       "      <td>0.0</td>\n",
       "      <td>0.0</td>\n",
       "      <td>0.0</td>\n",
       "      <td>...</td>\n",
       "      <td>5.0</td>\n",
       "      <td>0.0</td>\n",
       "      <td>0.0</td>\n",
       "      <td>0.0</td>\n",
       "      <td>0.0</td>\n",
       "      <td>3.0</td>\n",
       "      <td>11.0</td>\n",
       "      <td>16.0</td>\n",
       "      <td>9.0</td>\n",
       "      <td>0.0</td>\n",
       "    </tr>\n",
       "  </tbody>\n",
       "</table>\n",
       "<p>3 rows × 64 columns</p>\n",
       "</div>"
      ],
      "text/plain": [
       "    0    1    2     3     4     5    6    7    8    9  ...    54   55   56  \\\n",
       "0  0.0  0.0  5.0  13.0   9.0   1.0  0.0  0.0  0.0  0.0 ...   0.0  0.0  0.0   \n",
       "1  0.0  0.0  0.0  12.0  13.0   5.0  0.0  0.0  0.0  0.0 ...   0.0  0.0  0.0   \n",
       "2  0.0  0.0  0.0   4.0  15.0  12.0  0.0  0.0  0.0  0.0 ...   5.0  0.0  0.0   \n",
       "\n",
       "    57   58    59    60    61   62   63  \n",
       "0  0.0  6.0  13.0  10.0   0.0  0.0  0.0  \n",
       "1  0.0  0.0  11.0  16.0  10.0  0.0  0.0  \n",
       "2  0.0  0.0   3.0  11.0  16.0  9.0  0.0  \n",
       "\n",
       "[3 rows x 64 columns]"
      ]
     },
     "execution_count": 1,
     "metadata": {},
     "output_type": "execute_result"
    }
   ],
   "source": [
    "import pandas as pd\n",
    "import sklearn.datasets as ds\n",
    "import numpy as np\n",
    "import matplotlib.pyplot as plt\n",
    "%matplotlib inline\n",
    "\n",
    "#import the dataset and create a dataframe from it...\n",
    "dataset = ds.load_digits()\n",
    "numdata = pd.DataFrame(dataset.data)\n",
    "numlabels = pd.Series(dataset.target)\n",
    "numdata.head(3)"
   ]
  },
  {
   "cell_type": "code",
   "execution_count": 5,
   "metadata": {
    "collapsed": false
   },
   "outputs": [
    {
     "data": {
      "image/png": "[encoded data removed]",
      "text/plain": [
       "<matplotlib.figure.Figure at 0x7f2bd7d80400>"
      ]
     },
     "metadata": {},
     "output_type": "display_data"
    }
   ],
   "source": [
    "#plot representative examples...\n",
    "fig = plt.figure(figsize=(5,3))\n",
    "plt.subplots_adjust(hspace=0.1)\n",
    "ax = fig.add_subplot(241)\n",
    "ax.imshow(numdata.iloc[0].values.reshape(8,8),cmap='gray_r')\n",
    "ax.set_xlabel('0')\n",
    "ax1 = fig.add_subplot(242)\n",
    "ax1.imshow(numdata.iloc[99].values.reshape(8,8),cmap='gray_r')\n",
    "ax1.set_xlabel('100')\n",
    "ax2 = fig.add_subplot(243)\n",
    "ax2.imshow(numdata.iloc[199].values.reshape(8,8),cmap='gray_r')\n",
    "ax2.set_xlabel('200')\n",
    "ax3 = fig.add_subplot(244)\n",
    "ax3.imshow(numdata.iloc[299].values.reshape(8,8),cmap='gray_r')\n",
    "ax3.set_xlabel('300')\n",
    "ax4 = fig.add_subplot(245)\n",
    "ax4.imshow(numdata.iloc[999].values.reshape(8,8),cmap='gray_r')\n",
    "ax4.set_xlabel('1000')\n",
    "ax5 = fig.add_subplot(246)\n",
    "ax5.imshow(numdata.iloc[1099].values.reshape(8,8),cmap='gray_r')\n",
    "ax5.set_xlabel('1100')\n",
    "ax6 = fig.add_subplot(247)\n",
    "ax6.imshow(numdata.iloc[1199].values.reshape(8,8),cmap='gray_r')\n",
    "ax6.set_xlabel('1200')\n",
    "ax7 = fig.add_subplot(248)\n",
    "ax7.imshow(numdata.iloc[1299].values.reshape(8,8),cmap='gray_r')\n",
    "ax7.set_xlabel('1300')\n",
    "plt.show()\n"
   ]
  },
  {
   "cell_type": "markdown",
   "metadata": {
    "collapsed": true
   },
   "source": [
    "<strong>K Nearest Neighbours</strong>"
   ]
  },
  {
   "cell_type": "code",
   "execution_count": 3,
   "metadata": {
    "collapsed": false,
    "scrolled": true
   },
   "outputs": [
    {
     "data": {
      "image/png": "[encoded data removed]",
      "text/plain": [
       "<matplotlib.figure.Figure at 0x7f2bd95fd9b0>"
      ]
     },
     "metadata": {},
     "output_type": "display_data"
    }
   ],
   "source": [
    "from sklearn.neighbors import KNeighborsClassifier\n",
    "from sklearn.model_selection import KFold\n",
    "\n",
    "def train(features,labels,k):\n",
    "    knc = KNeighborsClassifier(n_neighbors = k)\n",
    "    knc.fit(features,labels)\n",
    "    return knc\n",
    "def test(model,features,labels):\n",
    "    plabels = model.predict(features)\n",
    "    fit = (plabels==labels)\n",
    "    accuracy = fit.sum()/fit.shape[0]\n",
    "    return accuracy\n",
    "def cross_validate(datafeatures,datalabels,n,k):\n",
    "    kf = KFold(n_splits=n)\n",
    "    turnacc = []\n",
    "    for train_index,test_index in kf.split(datafeatures):\n",
    "        tr_feat = datafeatures.iloc[train_index]\n",
    "        tr_lab = datalabels.iloc[train_index]\n",
    "        test_feat = datafeatures.iloc[test_index]\n",
    "        test_lab = datalabels.iloc[test_index]\n",
    "        model = train(tr_feat,tr_lab,k)\n",
    "        testacc = test(model,test_feat,test_lab)\n",
    "        turnacc.append(testacc)\n",
    "        return np.mean(turnacc)\n",
    "\n",
    "k_values = [1,2,3,4,5,6,7,8,9,10]\n",
    "kacc = []\n",
    "for k in k_values:\n",
    "    kacc.append(cross_validate(numdata,numlabels,4,k))\n",
    "        \n",
    "plt.plot(k_values,kacc)\n",
    "plt.xlabel('k values')\n",
    "plt.ylabel('accuracy')\n",
    "plt.title('K Nearest Neighbours Fit Accuracy')\n",
    "plt.show()"
   ]
  },
  {
   "cell_type": "markdown",
   "metadata": {
    "collapsed": true
   },
   "source": [
    "<strong>Neural Network with one Neuron</strong>"
   ]
  },
  {
   "cell_type": "code",
   "execution_count": null,
   "metadata": {
    "collapsed": false
   },
   "outputs": [
    {
     "name": "stdout",
     "output_type": "stream",
     "text": [
      "4 neurons x3 took 2 seconds and had an accuracy of 0.57\n",
      "8 neurons x3 took 2 seconds and had an accuracy of 0.93\n",
      "16 neurons x3 took 1 seconds and had an accuracy of 0.94\n",
      "32 neurons x3 took 1 seconds and had an accuracy of 0.93\n",
      "64 neurons x3 took 27 seconds and had an accuracy of 0.96\n"
     ]
    }
   ],
   "source": [
    "from sklearn.neural_network import MLPClassifier\n",
    "\n",
    "def ntrain(features,labels,k):\n",
    "    knc = MLPClassifier(hidden_layer_sizes = (k,),max_iter=1000)\n",
    "    knc.fit(features,labels)\n",
    "    return knc\n",
    "def ntest(model,features,labels):\n",
    "    plabels = model.predict(features)\n",
    "    fit = (plabels==labels)\n",
    "    accuracy = fit.sum()/fit.shape[0]\n",
    "    return accuracy\n",
    "def ncross_validate(datafeatures,datalabels,n,k):\n",
    "    kf = KFold(n_splits=n)\n",
    "    turnacc = []\n",
    "    for train_index,test_index in kf.split(datafeatures):\n",
    "        tr_feat = datafeatures.iloc[train_index]\n",
    "        tr_lab = datalabels.iloc[train_index]\n",
    "        test_feat = datafeatures.iloc[test_index]\n",
    "        test_lab = datalabels.iloc[test_index]\n",
    "        model = ntrain(tr_feat,tr_lab,k)\n",
    "        testacc = ntest(model,test_feat,test_lab)\n",
    "        turnacc.append(testacc)\n",
    "        return np.mean(turnacc)\n",
    "\n",
    "neurons = [4,8,16,32,64,128]\n",
    "\n",
    "nacc = []\n",
    "\n",
    "for n in neurons:\n",
    "    start = time.time()\n",
    "    acc = ncross_validate(numdata,numlabels,4,n)\n",
    "    stop = time.time()\n",
    "    print('%d neurons x3 took %d seconds and had an accuracy of %0.2f' % (n,stop-start,acc))\n",
    "    nacc.append(acc)\n",
    "        \n",
    "plt.plot(neurons,nacc)\n",
    "plt.xlabel('neurons')\n",
    "plt.ylabel('accuracy')\n",
    "plt.title('Single Neural Network Fit Accuracy')\n",
    "plt.show()\n"
   ]
  },
  {
   "cell_type": "markdown",
   "metadata": {
    "collapsed": true
   },
   "source": [
    "<strong>Neural Network with two layers of Neurons</strong>"
   ]
  },
  {
   "cell_type": "code",
   "execution_count": 13,
   "metadata": {
    "collapsed": false
   },
   "outputs": [
    {
     "name": "stdout",
     "output_type": "stream",
     "text": [
      "Dual Layer Accuracy:\n",
      "0.958\n"
     ]
    }
   ],
   "source": [
    "from sklearn.neural_network import MLPClassifier\n",
    "\n",
    "def ntrain2(features,labels):\n",
    "    knc = MLPClassifier(hidden_layer_sizes = (64,64),max_iter=1000)\n",
    "    knc.fit(features,labels)\n",
    "    return knc\n",
    "def ntest2(model,features,labels):\n",
    "    plabels = model.predict(features)\n",
    "    fit = (plabels==labels)\n",
    "    accuracy = fit.sum()/fit.shape[0]\n",
    "    return accuracy\n",
    "def ncross_validate2(datafeatures,datalabels,n):\n",
    "    kf = KFold(n_splits=n)\n",
    "    turnacc = []\n",
    "    for train_index,test_index in kf.split(datafeatures):\n",
    "        tr_feat = datafeatures.iloc[train_index]\n",
    "        tr_lab = datalabels.iloc[train_index]\n",
    "        test_feat = datafeatures.iloc[test_index]\n",
    "        test_lab = datalabels.iloc[test_index]\n",
    "        model = ntrain2(tr_feat,tr_lab)\n",
    "        testacc = ntest2(model,test_feat,test_lab)\n",
    "        turnacc.append(testacc)\n",
    "        return np.mean(turnacc)\n",
    "\n",
    "print('Dual Layer Accuracy:')\n",
    "print(np.round(ncross_validate2(numdata,numlabels,4),3))"
   ]
  },
  {
   "cell_type": "markdown",
   "metadata": {
    "collapsed": true
   },
   "source": [
    "<strong>Neural Network with Three Layers of Neurons</strong>"
   ]
  },
  {
   "cell_type": "code",
   "execution_count": 16,
   "metadata": {
    "collapsed": false
   },
   "outputs": [
    {
     "name": "stdout",
     "output_type": "stream",
     "text": [
      "4 neurons x3 took 1 seconds and had an accuracy of 0.23\n",
      "8 neurons x3 took 1 seconds and had an accuracy of 0.85\n",
      "16 neurons x3 took 1 seconds and had an accuracy of 0.91\n",
      "32 neurons x3 took 0 seconds and had an accuracy of 0.89\n",
      "64 neurons x3 took 35 seconds and had an accuracy of 0.95\n",
      "128 neurons x3 took 31 seconds and had an accuracy of 0.97\n"
     ]
    }
   ],
   "source": [
    "import time\n",
    "def ntrain3(features,labels,k):\n",
    "    knc = MLPClassifier(hidden_layer_sizes = (k,k,k),max_iter=1000)\n",
    "    knc.fit(features,labels)\n",
    "    return knc\n",
    "def ntest3(model,features,labels):\n",
    "    plabels = model.predict(features)\n",
    "    fit = (plabels==labels)\n",
    "    accuracy = fit.sum()/fit.shape[0]\n",
    "    return accuracy\n",
    "def ncross_validate3(datafeatures,datalabels,n,k):\n",
    "    kf = KFold(n_splits=n)\n",
    "    turnacc = []\n",
    "    for train_index,test_index in kf.split(datafeatures):\n",
    "        tr_feat = datafeatures.iloc[train_index]\n",
    "        tr_lab = datalabels.iloc[train_index]\n",
    "        test_feat = datafeatures.iloc[test_index]\n",
    "        test_lab = datalabels.iloc[test_index]\n",
    "        model = ntrain3(tr_feat,tr_lab,k)\n",
    "        testacc = ntest3(model,test_feat,test_lab)\n",
    "        turnacc.append(testacc)\n",
    "        return np.mean(turnacc)\n",
    "    \n",
    "neurons = [4,8,16,32,64,128]    \n",
    "for n in neurons:\n",
    "    start = time.time()\n",
    "    acc = ncross_validate3(numdata,numlabels,6,n)\n",
    "    stop = time.time()\n",
    "    print('%d neurons x3 took %d seconds and had an accuracy of %0.2f' % (n,stop-start,acc))"
   ]
  },
  {
   "cell_type": "markdown",
   "metadata": {
    "collapsed": true
   },
   "source": [
    "The accuracy of the model generally improves with complexity in the case of the neural networks, however it actually decreases in the case of the k-nearest neighbours.\n",
    "The k-nearest neighbours does surprisingly well with an n of 1, however this may be due to overfitting and remains to be tested.\n",
    "Added complexity certainly increases the computational time of the neural network models.\n",
    "\n"
   ]
  }
 ],
 "metadata": {
  "anaconda-cloud": {},
  "kernelspec": {
   "display_name": "Python 3",
   "language": "python",
   "name": "python3"
  },
  "language_info": {
   "codemirror_mode": {
    "name": "ipython",
    "version": 3
   },
   "file_extension": ".py",
   "mimetype": "text/x-python",
   "name": "python",
   "nbconvert_exporter": "python",
   "pygments_lexer": "ipython3",
   "version": "3.4.3"
  }
 },
 "nbformat": 4,
 "nbformat_minor": 2
}
